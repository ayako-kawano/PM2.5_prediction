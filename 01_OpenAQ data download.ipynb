{
 "cells": [
  {
   "cell_type": "code",
   "execution_count": 1,
   "metadata": {},
   "outputs": [
    {
     "name": "stdout",
     "output_type": "stream",
     "text": [
      "Collecting py-openaq\n",
      "  Downloading py-openaq-1.1.0.tar.gz (7.9 kB)\n",
      "Building wheels for collected packages: py-openaq\n",
      "  Building wheel for py-openaq (setup.py): started\n",
      "  Building wheel for py-openaq (setup.py): finished with status 'done'\n",
      "  Created wheel for py-openaq: filename=py_openaq-1.1.0-py3-none-any.whl size=9042 sha256=f22953f86c5f67549754f86b7afdeb92432fd1447f96fab5139443d6d61cdd9c\n",
      "  Stored in directory: c:\\users\\ayako\\appdata\\local\\pip\\cache\\wheels\\01\\1d\\be\\6b6a0ee792bbc9138aeb645707cdad8da741bb2d789beb04d9\n",
      "Successfully built py-openaq\n",
      "Installing collected packages: py-openaq\n",
      "Successfully installed py-openaq-1.1.0\n",
      "Note: you may need to restart the kernel to use updated packages.\n"
     ]
    }
   ],
   "source": [
    "#pip install py-openaq"
   ]
  },
  {
   "cell_type": "code",
   "execution_count": 1,
   "metadata": {},
   "outputs": [],
   "source": [
    "import openaq\n",
    "import pandas as pd\n",
    "api = openaq.OpenAQ()"
   ]
  },
  {
   "cell_type": "code",
   "execution_count": 23,
   "metadata": {},
   "outputs": [
    {
     "name": "stderr",
     "output_type": "stream",
     "text": [
      "C:\\Users\\ayako\\anaconda3\\lib\\site-packages\\openaq\\decorators.py:57: FutureWarning: pandas.io.json.json_normalize is deprecated, use pandas.json_normalize instead\n",
      "  data = pd.io.json.json_normalize(resp)\n"
     ]
    }
   ],
   "source": [
    "# Get the list of cities\n",
    "IN_cities = api.cities(country = 'IN', limit = 10000, df = True)\n",
    "MX_cities = api.cities(country = 'MX', limit = 10000, df = True)\n",
    "CO_cities = api.cities(country = 'CO', limit = 10000, df = True)\n",
    "\n",
    "IN_cities = IN_cities['city'].tolist()\n",
    "MX_cities = MX_cities['city'].tolist()\n",
    "CO_cities = CO_cities['city'].tolist()\n",
    "\n",
    "print(len(IN_cities))\n",
    "print(len(MX_cities))\n",
    "len(CO_cities)"
   ]
  },
  {
   "cell_type": "code",
   "execution_count": 144,
   "metadata": {},
   "outputs": [],
   "source": [
    "# Get PM2.5 from Columnbia\n",
    "# Repeat the same for other countries which have many cities\n",
    "CO_cities1 = CO_cities[0:5]\n",
    "CO_cities2 = CO_cities[6:11]\n",
    "\n",
    "CO1 = api.measurements(city = CO_cities1, parameter = 'pm25', \n",
    "                       date_from = '2018-11-22', date_to = '2021-01-31', limit = 100000, df = True)\n",
    "\n",
    "CO2 = api.measurements(city = CO_cities2, parameter = 'pm25', \n",
    "                       date_from = '2018-11-22', date_to = '2021-01-31', limit = 100000, df = True)\n",
    "\n",
    "frames = [CO1, CO2]\n",
    "Colombia = pd.concat(frames)\n",
    "Colombia.to_csv('Colombia.csv', index=False) "
   ]
  },
  {
   "cell_type": "code",
   "execution_count": 116,
   "metadata": {},
   "outputs": [],
   "source": [
    "# Collect PM2.5 data from other countries which have less data points\n",
    "Pakistan = api.measurements(country = 'PK', parameter = 'pm25', \n",
    "                            date_from = '2018-11-22', date_to = '2021-01-31', limit = 100000, df = True)\n",
    "UAE = api.measurements(country = 'AE', parameter = 'pm25', \n",
    "                       date_from = '2018-11-22', date_to = '2021-01-31', limit = 100000, df = True)\n",
    "Saudi = api.measurements(country = 'SA', parameter = 'pm25', \n",
    "                         date_from = '2018-11-22', date_to = '2021-01-31', limit = 100000, df = True)\n",
    "Sudan = api.measurements(country = 'SD', parameter = 'pm25', \n",
    "                         date_from = '2018-11-22', date_to = '2021-01-31', limit = 100000, df = True)\n",
    "Ethiopia = api.measurements(country = 'ET', parameter = 'pm25', \n",
    "                            date_from = '2018-11-22', date_to = '2021-01-31', limit = 100000, df = True)\n",
    "Guinea = api.measurements(country = 'GN', parameter = 'pm25', \n",
    "                          date_from = '2018-11-22', date_to = '2021-01-31', limit = 100000, df = True)\n",
    "Mali = api.measurements(country = 'ML', parameter = 'pm25', \n",
    "                        date_from = '2018-11-22', date_to = '2021-01-31', limit = 100000, df = True)\n",
    "Morocco = api.measurements(country = 'MA', parameter = 'pm25', \n",
    "                           date_from = '2018-11-22', date_to = '2021-01-31', limit = 100000, df = True)\n",
    "Brazil = api.measurements(country = 'BR', parameter = 'pm25', \n",
    "                          date_from = '2018-11-22', date_to = '2021-01-31', limit = 100000, df = True)\n",
    "Portugal = api.measurements(country = 'PT', parameter = 'pm25', \n",
    "                            date_from = '2018-11-22', date_to = '2021-01-31', limit = 100000, df = True)\n",
    "Ecuador = api.measurements(country = 'EC', parameter = 'pm25', \n",
    "                           date_from = '2018-11-22', date_to = '2021-01-31', limit = 100000, df = True)\n",
    "Peru = api.measurements(country = 'PE', parameter = 'pm25', \n",
    "                        date_from = '2018-11-22', date_to = '2021-01-31', limit = 100000, df = True)\n"
   ]
  },
  {
   "cell_type": "code",
   "execution_count": 138,
   "metadata": {},
   "outputs": [],
   "source": [
    "frames2 = [India, Pakistan, UAE, Saudi, Sudan, Ethiopia, Guinea, Mali, Morocco, Bangladesh, Brazil, Portugal, Mexico, Colombia,\n",
    "          Ecuador, Peru]\n",
    "world = pd.concat(frames2)"
   ]
  },
  {
   "cell_type": "code",
   "execution_count": 140,
   "metadata": {},
   "outputs": [
    {
     "data": {
      "text/plain": [
       "(2323177, 9)"
      ]
     },
     "execution_count": 140,
     "metadata": {},
     "output_type": "execute_result"
    }
   ],
   "source": [
    "world.shape"
   ]
  },
  {
   "cell_type": "code",
   "execution_count": 6,
   "metadata": {},
   "outputs": [
    {
     "data": {
      "text/plain": [
       "IN    1445565\n",
       "MX     310908\n",
       "CO     200000\n",
       "PT     100000\n",
       "PK      57168\n",
       "AE      45848\n",
       "PE      42828\n",
       "ET      37012\n",
       "BD      18622\n",
       "US      17030\n",
       "BR      10369\n",
       "SD       8906\n",
       "SA       8777\n",
       "GN       5960\n",
       "ML       5389\n",
       "EC       4087\n",
       "ES       3868\n",
       "MA        840\n",
       "Name: country, dtype: int64"
      ]
     },
     "execution_count": 6,
     "metadata": {},
     "output_type": "execute_result"
    }
   ],
   "source": [
    "world['country'].value_counts()"
   ]
  },
  {
   "cell_type": "code",
   "execution_count": 4,
   "metadata": {},
   "outputs": [
    {
     "data": {
      "text/plain": [
       "GVM Corporation, Visakhapatnam - APPCB    27252\n",
       "GM Office, Brajrajnagar - OSPCB           25219\n",
       "Yamunapuram, Bulandshahr - UPPCB          24394\n",
       "Gobind Pura, Yamuna Nagar - HSPCB         23003\n",
       "Ward-32 Bapupara, Siliguri - WBPCB        18948\n",
       "                                          ...  \n",
       "US Diplomatic Post: Dharan                   24\n",
       "Laboratorio                                   2\n",
       "Jeddah                                        2\n",
       "PT04002                                       1\n",
       "CESPM                                         1\n",
       "Name: location, Length: 463, dtype: int64"
      ]
     },
     "execution_count": 4,
     "metadata": {},
     "output_type": "execute_result"
    }
   ],
   "source": [
    "world['location'].value_counts()"
   ]
  },
  {
   "cell_type": "code",
   "execution_count": 136,
   "metadata": {},
   "outputs": [
    {
     "data": {
      "text/html": [
       "<div>\n",
       "<style scoped>\n",
       "    .dataframe tbody tr th:only-of-type {\n",
       "        vertical-align: middle;\n",
       "    }\n",
       "\n",
       "    .dataframe tbody tr th {\n",
       "        vertical-align: top;\n",
       "    }\n",
       "\n",
       "    .dataframe thead th {\n",
       "        text-align: right;\n",
       "    }\n",
       "</style>\n",
       "<table border=\"1\" class=\"dataframe\">\n",
       "  <thead>\n",
       "    <tr style=\"text-align: right;\">\n",
       "      <th></th>\n",
       "      <th>location</th>\n",
       "      <th>parameter</th>\n",
       "      <th>value</th>\n",
       "      <th>unit</th>\n",
       "      <th>country</th>\n",
       "      <th>city</th>\n",
       "      <th>date.utc</th>\n",
       "      <th>coordinates.latitude</th>\n",
       "      <th>coordinates.longitude</th>\n",
       "      <th>coordinates</th>\n",
       "    </tr>\n",
       "    <tr>\n",
       "      <th>date.local</th>\n",
       "      <th></th>\n",
       "      <th></th>\n",
       "      <th></th>\n",
       "      <th></th>\n",
       "      <th></th>\n",
       "      <th></th>\n",
       "      <th></th>\n",
       "      <th></th>\n",
       "      <th></th>\n",
       "      <th></th>\n",
       "    </tr>\n",
       "  </thead>\n",
       "  <tbody>\n",
       "    <tr>\n",
       "      <th>2021-01-27 03:00:00</th>\n",
       "      <td>Moti Doongri, Alwar - RSPCB</td>\n",
       "      <td>pm25</td>\n",
       "      <td>44.82</td>\n",
       "      <td>b'\\xc2\\xb5g/m\\xc2\\xb3'</td>\n",
       "      <td>IN</td>\n",
       "      <td>Alwar</td>\n",
       "      <td>2021-01-26 21:30:00+00:00</td>\n",
       "      <td>27.554793</td>\n",
       "      <td>76.611536</td>\n",
       "      <td>76.611536,27.554793</td>\n",
       "    </tr>\n",
       "    <tr>\n",
       "      <th>2021-01-27 03:00:00</th>\n",
       "      <td>Maninagar, Ahmedabad - GPCB</td>\n",
       "      <td>pm25</td>\n",
       "      <td>50.30</td>\n",
       "      <td>b'\\xc2\\xb5g/m\\xc2\\xb3'</td>\n",
       "      <td>IN</td>\n",
       "      <td>Ahmedabad</td>\n",
       "      <td>2021-01-26 21:30:00+00:00</td>\n",
       "      <td>23.002657</td>\n",
       "      <td>72.591912</td>\n",
       "      <td>72.591912,23.002657</td>\n",
       "    </tr>\n",
       "    <tr>\n",
       "      <th>2021-01-27 03:00:00</th>\n",
       "      <td>Civil Lines,  Ajmer - RSPCB</td>\n",
       "      <td>pm25</td>\n",
       "      <td>36.60</td>\n",
       "      <td>b'\\xc2\\xb5g/m\\xc2\\xb3'</td>\n",
       "      <td>IN</td>\n",
       "      <td>Ajmer</td>\n",
       "      <td>2021-01-26 21:30:00+00:00</td>\n",
       "      <td>26.470859</td>\n",
       "      <td>74.646594</td>\n",
       "      <td>74.646594,26.470859</td>\n",
       "    </tr>\n",
       "    <tr>\n",
       "      <th>2021-01-27 03:00:00</th>\n",
       "      <td>Sanjay Palace, Agra - UPPCB</td>\n",
       "      <td>pm25</td>\n",
       "      <td>153.00</td>\n",
       "      <td>b'\\xc2\\xb5g/m\\xc2\\xb3'</td>\n",
       "      <td>IN</td>\n",
       "      <td>Agra</td>\n",
       "      <td>2021-01-26 21:30:00+00:00</td>\n",
       "      <td>27.198658</td>\n",
       "      <td>78.005981</td>\n",
       "      <td>78.00598056,27.19865833</td>\n",
       "    </tr>\n",
       "    <tr>\n",
       "      <th>2021-01-27 03:00:00</th>\n",
       "      <td>Golden Temple, Amritsar - PPCB</td>\n",
       "      <td>pm25</td>\n",
       "      <td>69.34</td>\n",
       "      <td>b'\\xc2\\xb5g/m\\xc2\\xb3'</td>\n",
       "      <td>IN</td>\n",
       "      <td>Amritsar</td>\n",
       "      <td>2021-01-26 21:30:00+00:00</td>\n",
       "      <td>31.620000</td>\n",
       "      <td>74.876512</td>\n",
       "      <td>74.876512,31.62</td>\n",
       "    </tr>\n",
       "  </tbody>\n",
       "</table>\n",
       "</div>"
      ],
      "text/plain": [
       "                                           location parameter   value  \\\n",
       "date.local                                                              \n",
       "2021-01-27 03:00:00     Moti Doongri, Alwar - RSPCB      pm25   44.82   \n",
       "2021-01-27 03:00:00     Maninagar, Ahmedabad - GPCB      pm25   50.30   \n",
       "2021-01-27 03:00:00     Civil Lines,  Ajmer - RSPCB      pm25   36.60   \n",
       "2021-01-27 03:00:00     Sanjay Palace, Agra - UPPCB      pm25  153.00   \n",
       "2021-01-27 03:00:00  Golden Temple, Amritsar - PPCB      pm25   69.34   \n",
       "\n",
       "                                       unit country       city  \\\n",
       "date.local                                                       \n",
       "2021-01-27 03:00:00  b'\\xc2\\xb5g/m\\xc2\\xb3'      IN      Alwar   \n",
       "2021-01-27 03:00:00  b'\\xc2\\xb5g/m\\xc2\\xb3'      IN  Ahmedabad   \n",
       "2021-01-27 03:00:00  b'\\xc2\\xb5g/m\\xc2\\xb3'      IN      Ajmer   \n",
       "2021-01-27 03:00:00  b'\\xc2\\xb5g/m\\xc2\\xb3'      IN       Agra   \n",
       "2021-01-27 03:00:00  b'\\xc2\\xb5g/m\\xc2\\xb3'      IN   Amritsar   \n",
       "\n",
       "                                     date.utc  coordinates.latitude  \\\n",
       "date.local                                                            \n",
       "2021-01-27 03:00:00 2021-01-26 21:30:00+00:00             27.554793   \n",
       "2021-01-27 03:00:00 2021-01-26 21:30:00+00:00             23.002657   \n",
       "2021-01-27 03:00:00 2021-01-26 21:30:00+00:00             26.470859   \n",
       "2021-01-27 03:00:00 2021-01-26 21:30:00+00:00             27.198658   \n",
       "2021-01-27 03:00:00 2021-01-26 21:30:00+00:00             31.620000   \n",
       "\n",
       "                     coordinates.longitude              coordinates  \n",
       "date.local                                                           \n",
       "2021-01-27 03:00:00              76.611536      76.611536,27.554793  \n",
       "2021-01-27 03:00:00              72.591912      72.591912,23.002657  \n",
       "2021-01-27 03:00:00              74.646594      74.646594,26.470859  \n",
       "2021-01-27 03:00:00              78.005981  78.00598056,27.19865833  \n",
       "2021-01-27 03:00:00              74.876512          74.876512,31.62  "
      ]
     },
     "execution_count": 136,
     "metadata": {},
     "output_type": "execute_result"
    }
   ],
   "source": [
    "World.head()"
   ]
  },
  {
   "cell_type": "code",
   "execution_count": null,
   "metadata": {},
   "outputs": [],
   "source": [
    "world.to_csv('world_openaq.csv', index=False)  "
   ]
  }
 ],
 "metadata": {
  "kernelspec": {
   "display_name": "Python 3",
   "language": "python",
   "name": "python3"
  },
  "language_info": {
   "codemirror_mode": {
    "name": "ipython",
    "version": 3
   },
   "file_extension": ".py",
   "mimetype": "text/x-python",
   "name": "python",
   "nbconvert_exporter": "python",
   "pygments_lexer": "ipython3",
   "version": "3.8.5"
  }
 },
 "nbformat": 4,
 "nbformat_minor": 4
}
